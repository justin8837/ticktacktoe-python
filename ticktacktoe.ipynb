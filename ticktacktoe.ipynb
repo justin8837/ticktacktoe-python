{
 "cells": [
  {
   "cell_type": "code",
   "execution_count": 55,
   "id": "a5abe2f1",
   "metadata": {},
   "outputs": [],
   "source": [
    "from IPython.display import clear_output\n",
    "\n",
    "def display_board(board):\n",
    "    clear_output()\n",
    "    \n",
    "    print(board[7]+'|'+board[8]+'|'+board[9])\n",
    "    print('-----')\n",
    "    print(board[4]+'|'+board[5]+'|'+board[6])\n",
    "    print('-----')\n",
    "    print(board[1]+'|'+board[2]+'|'+board[3])"
   ]
  },
  {
   "cell_type": "code",
   "execution_count": 56,
   "id": "75d247f7",
   "metadata": {},
   "outputs": [
    {
     "name": "stdout",
     "output_type": "stream",
     "text": [
      "X|X|O\n",
      "-----\n",
      "O|X|X\n",
      "-----\n",
      "X|O|X\n"
     ]
    }
   ],
   "source": [
    "test_board = ['#','X','O','X','O','X','X','X','X','O']\n",
    "display_board(test_board)"
   ]
  },
  {
   "cell_type": "code",
   "execution_count": 57,
   "id": "03fa2417",
   "metadata": {},
   "outputs": [],
   "source": [
    "def player_input():\n",
    "    marker = ''\n",
    "    \n",
    "    while not (marker != 'X' and marker != 'O'):\n",
    "        marker = input('Player 1, choose X or O ').upper()\n",
    "    \n",
    "    if marker == 'X':\n",
    "        return('X','O')\n",
    "    else:\n",
    "        return('O','X')\n",
    "            \n",
    "    return (player1,player2)"
   ]
  },
  {
   "cell_type": "code",
   "execution_count": 74,
   "id": "bcac46fe",
   "metadata": {},
   "outputs": [
    {
     "name": "stdout",
     "output_type": "stream",
     "text": [
      "Player 1, choose X or O X\n"
     ]
    },
    {
     "data": {
      "text/plain": [
       "('X', 'O')"
      ]
     },
     "execution_count": 74,
     "metadata": {},
     "output_type": "execute_result"
    }
   ],
   "source": [
    "player_input()"
   ]
  },
  {
   "cell_type": "code",
   "execution_count": 75,
   "id": "dd688d5d",
   "metadata": {},
   "outputs": [],
   "source": [
    "def place_marker(board, marker, position):\n",
    "    board[position] = marker"
   ]
  },
  {
   "cell_type": "code",
   "execution_count": 76,
   "id": "6bf72bfc",
   "metadata": {},
   "outputs": [],
   "source": [
    "def win_check(board,mark):\n",
    "    \n",
    "    #TO WIN I NEED TO\n",
    "    \n",
    "    # CHECK IF ALL ROW HAVE SAME MARKER\n",
    "    return((board[1] == board[2] == board[3] == mark) or\n",
    "    (board[4] == board[5] == board[6] == mark) or\n",
    "    (board[7] == board[8] == board[9] == mark) or\n",
    "    # CHECK FOR SAME MARKER IN COLUMN\n",
    "    (board[1] == board[4] == board[7] == mark) or\n",
    "    (board[2] == board[5] == board[8] == mark) or\n",
    "    (board[3] == board[6] == board[9] == mark) or\n",
    "    # CHECK DIAGONALLY\n",
    "    (board[1] == board[5] == board[9] == mark) or\n",
    "    (board[7] == board[5] == board[3] == mark))\n",
    "    "
   ]
  },
  {
   "cell_type": "code",
   "execution_count": 77,
   "id": "75d16d07",
   "metadata": {},
   "outputs": [],
   "source": [
    "import random\n",
    "\n",
    "def go_first():\n",
    "    \n",
    "    # basically coin flip\n",
    "    flip = random.randint(0,1)\n",
    "    \n",
    "    if flip == 0:\n",
    "        return 'Player 1'\n",
    "    else:\n",
    "        return 'Player 2'"
   ]
  },
  {
   "cell_type": "code",
   "execution_count": 78,
   "id": "ecb962df",
   "metadata": {},
   "outputs": [],
   "source": [
    "def space_check(board, position):\n",
    "    \n",
    "    return board[position] == ' '"
   ]
  },
  {
   "cell_type": "code",
   "execution_count": 79,
   "id": "54d5531d",
   "metadata": {},
   "outputs": [],
   "source": [
    "def full_board_check(board):\n",
    "    \n",
    "    for i in range(1,10):\n",
    "        if space_check(board, i):\n",
    "            return False\n",
    "    #goes till the board is full\n",
    "    return True"
   ]
  },
  {
   "cell_type": "code",
   "execution_count": 80,
   "id": "22057406",
   "metadata": {},
   "outputs": [],
   "source": [
    "def player_choice(board):\n",
    "    \n",
    "    position = 0\n",
    "    \n",
    "    while position not in [1,2,3,4,5,6,7,8,9] or not space_check(board, position):\n",
    "        \n",
    "        position = int(input('Choose a position: (1-9) '))\n",
    "        \n",
    "    return position\n",
    "        "
   ]
  },
  {
   "cell_type": "code",
   "execution_count": 81,
   "id": "37d0df13",
   "metadata": {},
   "outputs": [],
   "source": [
    "def replay():\n",
    "    \n",
    "    choice = input(\"Play again? Enter Yes or No\")\n",
    "    \n",
    "    return choice == 'Yes'"
   ]
  },
  {
   "cell_type": "code",
   "execution_count": 82,
   "id": "f79f6dde",
   "metadata": {},
   "outputs": [
    {
     "name": "stdout",
     "output_type": "stream",
     "text": [
      "O| | \n",
      "-----\n",
      "X|X|X\n",
      "-----\n",
      "X|O|O\n",
      "PLAYER 1 WINS!\n",
      "Play again? Enter Yes or Noy\n"
     ]
    }
   ],
   "source": [
    "# WHILE LOOP TO KEEP THE GAME GOING\n",
    "\n",
    "print('Welcome to TIC TAC TOE')\n",
    "\n",
    "while True:\n",
    "    \n",
    "    # PLAY THE GAME\n",
    "    \n",
    "    #BASIC SET UP 1. BAORD 2.WHO GOES FIRST 3.MARKER CHOICE\n",
    "    the_board = [' ']*10\n",
    "    \n",
    "    player1_marker,play2_marker = player_input()\n",
    "    \n",
    "    turn = go_first()\n",
    "    print(turn + ' goes first')\n",
    "    \n",
    "    # GAME START\n",
    "    play_game = input('Are you READY? y or n? ')\n",
    "    \n",
    "    if play_game.lower()[0] == 'y':\n",
    "        game_on = True\n",
    "    else:\n",
    "        game_on = False\n",
    "        \n",
    "    #GAME PLAY\n",
    "    \n",
    "    while game_on:\n",
    "        # START OF PLAYER 1\n",
    "        if turn == 'Player 1':\n",
    "            \n",
    "            # YOU NEED TO 1. DISPLAY BOARD 2. CHOOSE POSITION 3. PLACE MARKER\n",
    "            display_board(the_board)\n",
    "            \n",
    "            position = player_choice(the_board)\n",
    "        \n",
    "            place_marker(the_board,player1_marker,position)\n",
    "            \n",
    "            #CHECK IF PLAYER 1 WINS\n",
    "            if win_check(the_board,player1_marker):\n",
    "                display_board(the_board)\n",
    "                print(\"PLAYER 1 WINS!\")\n",
    "                game_on = False\n",
    "                \n",
    "            else:\n",
    "            #CHECK IF BOARD IS FULL FOR A TIE\n",
    "                if full_board_check(the_board):\n",
    "                    display_board()\n",
    "                    print(\"IT'S A TIE!\")\n",
    "                    game_on = False\n",
    "                else:\n",
    "                    #START OF PLAYER 2\n",
    "                    turn = 'Player 2'\n",
    "        # SAME LOGIC BUT WITH PLAYER 2 INSTEAD OF PLAYER 1\n",
    "        else: \n",
    "            \n",
    "            display_board(the_board)\n",
    "            position = player_choice(the_board)\n",
    "            place_marker(the_board,player2_marker,position)\n",
    "            \n",
    "            #CHECK IF PLAYER 2 WINS\n",
    "            if win_check(the_board,player2_marker):\n",
    "                display_board(the_board)\n",
    "                print(\"PLAYER 2 WINS!\")\n",
    "                game_on = False\n",
    "                \n",
    "            else:\n",
    "            #CHECK IF BOARD IS FULL FOR A TIE\n",
    "                if full_board_check(the_board):\n",
    "                    display_board()\n",
    "                    print(\"IT'S A TIE!\")\n",
    "                    game_on = False\n",
    "                else:\n",
    "                    #START OF PLAYER 1 AGAIN\n",
    "                    turn = 'Player 1'\n",
    "    \n",
    "    if not replay():\n",
    "        break"
   ]
  },
  {
   "cell_type": "code",
   "execution_count": null,
   "id": "13a3c8b1",
   "metadata": {},
   "outputs": [],
   "source": []
  },
  {
   "cell_type": "code",
   "execution_count": null,
   "id": "32ffe390",
   "metadata": {},
   "outputs": [],
   "source": []
  },
  {
   "cell_type": "code",
   "execution_count": null,
   "id": "eada8e74",
   "metadata": {},
   "outputs": [],
   "source": []
  }
 ],
 "metadata": {
  "kernelspec": {
   "display_name": "Python 3",
   "language": "python",
   "name": "python3"
  },
  "language_info": {
   "codemirror_mode": {
    "name": "ipython",
    "version": 3
   },
   "file_extension": ".py",
   "mimetype": "text/x-python",
   "name": "python",
   "nbconvert_exporter": "python",
   "pygments_lexer": "ipython3",
   "version": "3.8.8"
  }
 },
 "nbformat": 4,
 "nbformat_minor": 5
}
